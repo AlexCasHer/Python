{
  "nbformat": 4,
  "nbformat_minor": 0,
  "metadata": {
    "colab": {
      "provenance": [],
      "authorship_tag": "ABX9TyM+XXwRAbW/4BTofraUA409",
      "include_colab_link": true
    },
    "kernelspec": {
      "name": "python3",
      "display_name": "Python 3"
    },
    "language_info": {
      "name": "python"
    }
  },
  "cells": [
    {
      "cell_type": "markdown",
      "metadata": {
        "id": "view-in-github",
        "colab_type": "text"
      },
      "source": [
        "<a href=\"https://colab.research.google.com/github/AlexCasHer/Python/blob/main/Comandos_Basicos.ipynb\" target=\"_parent\"><img src=\"https://colab.research.google.com/assets/colab-badge.svg\" alt=\"Open In Colab\"/></a>"
      ]
    },
    {
      "cell_type": "markdown",
      "source": [
        "Primer programa en Python:"
      ],
      "metadata": {
        "id": "IrFccyHJla35"
      }
    },
    {
      "cell_type": "code",
      "execution_count": null,
      "metadata": {
        "colab": {
          "base_uri": "https://localhost:8080/"
        },
        "id": "1w29n23nk_At",
        "outputId": "b8f33d0a-1182-4892-d80b-2df5bf6ffadb"
      },
      "outputs": [
        {
          "output_type": "stream",
          "name": "stdout",
          "text": [
            "Ejemplo\n"
          ]
        }
      ],
      "source": [
        "print(\"Ejemplo\")"
      ]
    },
    {
      "cell_type": "markdown",
      "source": [
        "A continuación veremos los tipos de comentarios:"
      ],
      "metadata": {
        "id": "Th7CBIctyLJH"
      }
    },
    {
      "cell_type": "code",
      "source": [
        "# Comentarios:"
      ],
      "metadata": {
        "id": "KbTr2TMKlkCO"
      },
      "execution_count": 1,
      "outputs": []
    }
  ]
}