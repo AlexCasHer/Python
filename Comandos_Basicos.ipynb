{
  "nbformat": 4,
  "nbformat_minor": 0,
  "metadata": {
    "colab": {
      "provenance": [],
      "authorship_tag": "ABX9TyO1fAbMawaBntf7CBt4fg/J",
      "include_colab_link": true
    },
    "kernelspec": {
      "name": "python3",
      "display_name": "Python 3"
    },
    "language_info": {
      "name": "python"
    }
  },
  "cells": [
    {
      "cell_type": "markdown",
      "metadata": {
        "id": "view-in-github",
        "colab_type": "text"
      },
      "source": [
        "<a href=\"https://colab.research.google.com/github/AlexCasHer/Python/blob/main/Comandos_Basicos.ipynb\" target=\"_parent\"><img src=\"https://colab.research.google.com/assets/colab-badge.svg\" alt=\"Open In Colab\"/></a>"
      ]
    },
    {
      "cell_type": "markdown",
      "source": [
        "Primer programa en Python:"
      ],
      "metadata": {
        "id": "IrFccyHJla35"
      }
    },
    {
      "cell_type": "code",
      "execution_count": null,
      "metadata": {
        "colab": {
          "base_uri": "https://localhost:8080/"
        },
        "id": "1w29n23nk_At",
        "outputId": "b8f33d0a-1182-4892-d80b-2df5bf6ffadb"
      },
      "outputs": [
        {
          "output_type": "stream",
          "name": "stdout",
          "text": [
            "Ejemplo\n"
          ]
        }
      ],
      "source": [
        "print(\"Ejemplo\")"
      ]
    },
    {
      "cell_type": "markdown",
      "source": [
        "A continuación veremos los tipos de comentarios:"
      ],
      "metadata": {
        "id": "Th7CBIctyLJH"
      }
    },
    {
      "cell_type": "code",
      "source": [
        "# Comentarios en una sóla línea.\n",
        "'''\n",
        "Comentarios en varias líneas.\n",
        "'''"
      ],
      "metadata": {
        "id": "KbTr2TMKlkCO",
        "colab": {
          "base_uri": "https://localhost:8080/",
          "height": 36
        },
        "outputId": "eaa919ed-671c-4c3b-c95c-9590d7e44bc6"
      },
      "execution_count": 4,
      "outputs": [
        {
          "output_type": "execute_result",
          "data": {
            "text/plain": [
              "'\\nComentarios en varias líneas.\\n'"
            ],
            "application/vnd.google.colaboratory.intrinsic+json": {
              "type": "string"
            }
          },
          "metadata": {},
          "execution_count": 4
        }
      ]
    },
    {
      "cell_type": "markdown",
      "source": [
        "El siguiente paso es definir los diferentes tipos de datos en python:"
      ],
      "metadata": {
        "id": "W37SoItdzBp1"
      }
    },
    {
      "cell_type": "code",
      "source": [
        "# Datos de tipo entero, flotantes:\n",
        "a = 10\n",
        "b = 10.5\n",
        "\n",
        "# Verificamos el tipo de dato:\n",
        "type(a)\n",
        "type(b)\n"
      ],
      "metadata": {
        "colab": {
          "base_uri": "https://localhost:8080/"
        },
        "id": "7DYXzFJYzA00",
        "outputId": "7b466b5a-9c23-4756-cb17-70c10ed6547c"
      },
      "execution_count": 10,
      "outputs": [
        {
          "output_type": "execute_result",
          "data": {
            "text/plain": [
              "float"
            ]
          },
          "metadata": {},
          "execution_count": 10
        }
      ]
    },
    {
      "cell_type": "markdown",
      "source": [
        "Diferentes sistemas de numeración en python: En Python 2.0 es posible asignar un tipo de datos long mediante agregando una L al final de la literal, sin embargo para Python 3.0 no es necesaria."
      ],
      "metadata": {
        "id": "ajW5xzM30FwT"
      }
    },
    {
      "cell_type": "code",
      "source": [
        "# Sistema numérico decimal:\n",
        "a = 20  # En Python 3.0 automáticamente asigna la memoria para almacenar la información.\n",
        "\n",
        "# Sistema numérico octal:\n",
        "b = 0o12\n",
        "\n",
        "# Sistema numérico hexadecimal:\n",
        "c = 0x12\n",
        "\n",
        "print(a)\n",
        "print(b)\n",
        "print(c)"
      ],
      "metadata": {
        "colab": {
          "base_uri": "https://localhost:8080/"
        },
        "id": "91vSRdUX0iMD",
        "outputId": "26b68d4b-649d-48c7-e5ae-b39e0d38d735"
      },
      "execution_count": 20,
      "outputs": [
        {
          "output_type": "stream",
          "name": "stdout",
          "text": [
            "20\n",
            "10\n",
            "18\n"
          ]
        }
      ]
    },
    {
      "cell_type": "markdown",
      "source": [
        "NOTA IMPORTANTE: Es importante recordar la metodología para intercambiar entre bases numéricas."
      ],
      "metadata": {
        "id": "BiPJSKAX172z"
      }
    },
    {
      "cell_type": "markdown",
      "source": [
        "A continuación veremos como definir números reales en Python"
      ],
      "metadata": {
        "id": "MuT0EsQE2jxI"
      }
    },
    {
      "cell_type": "code",
      "source": [
        "# Números reales:\n",
        "real = 12.5\n",
        "\n",
        "# Numeros con notación exponencial:\n",
        "real2 = 1.2e-5\n",
        "\n",
        "# Visualizar los valores\n",
        "print(real)\n",
        "print(real2)\n"
      ],
      "metadata": {
        "id": "wGTYEJ3e2B61",
        "outputId": "c8e2e2a4-1262-4948-91f6-f7b890e3e405",
        "colab": {
          "base_uri": "https://localhost:8080/"
        }
      },
      "execution_count": 21,
      "outputs": [
        {
          "output_type": "stream",
          "name": "stdout",
          "text": [
            "12.5\n",
            "1.2e-05\n"
          ]
        }
      ]
    },
    {
      "cell_type": "markdown",
      "source": [
        "A continuación veremos que parámetros podemos modificar en la función print:\n",
        "\n",
        "La función print() tiene argumentos opcionales que permiten personalizar la salida:\n",
        "* sep: Especifica el separador entre los elementos a imprimir (por defecto es un  espacio).\n",
        "* end: Especifica lo que se imprime al final (por defecto es un salto de línea).\n",
        "* file: Especifica un objeto de archivo donde se imprimirá la salida (por defecto es la consola).\n",
        "* flush: Especifica si se debe vaciar el buffer de salida (por defecto es False)."
      ],
      "metadata": {
        "id": "gBp3P_kU24O_"
      }
    },
    {
      "cell_type": "code",
      "source": [
        "print(\"El numero 1 es\", real, \"y el número 2 es\", real2, sep=\" \", end=\".\\n\")\n",
        "print(f\"El numero real es {real} y el numero con notación exponencial es {real2}\")"
      ],
      "metadata": {
        "id": "37OVIio-23eb",
        "outputId": "3a4b0d0d-d126-4acd-bd28-fa21eeed8ec4",
        "colab": {
          "base_uri": "https://localhost:8080/"
        }
      },
      "execution_count": 42,
      "outputs": [
        {
          "output_type": "stream",
          "name": "stdout",
          "text": [
            "El numero 1 es 12.5 y el número 2 es 1.2e-05.\n",
            "El numero real es 12.5 y el numero con notación exponencial es 1.2e-05\n"
          ]
        }
      ]
    },
    {
      "cell_type": "markdown",
      "source": [],
      "metadata": {
        "id": "oXO3FvVN6Lsb"
      }
    }
  ]
}